{
 "cells": [
  {
   "cell_type": "markdown",
   "source": [
    "## Business Challenge\n",
    "\n",
    "Classify Stocks as flat, up or down.\n",
    "\n",
    "I tested two classification algorithms, Decision Tree Model and Random Forest Classifier Model.\n",
    "\n",
    "\n",
    "Result:\n",
    "Random Forest performed slightly better in classifying whether a stock when up or down, or remained flat.\n",
    "I used the classification report, looking at the F1-Score to examine the overall model accuracy.\n",
    "If I had more time I would have tried an Artificial Neural Network algorithm and done more class labelling."
   ],
   "metadata": {
    "collapsed": false
   }
  },
  {
   "cell_type": "markdown",
   "source": [
    "## Import Libraries"
   ],
   "metadata": {
    "collapsed": false
   }
  },
  {
   "cell_type": "code",
   "execution_count": 1,
   "outputs": [],
   "source": [
    "import numpy as np\n",
    "import pandas as pd\n",
    "from sklearn.model_selection import train_test_split\n",
    "from sklearn.tree import DecisionTreeClassifier"
   ],
   "metadata": {
    "collapsed": false,
    "ExecuteTime": {
     "end_time": "2023-08-16T06:07:20.593674Z",
     "start_time": "2023-08-16T06:07:18.660825Z"
    }
   }
  },
  {
   "cell_type": "code",
   "execution_count": 2,
   "outputs": [],
   "source": [
    "df = pd.read_csv('/Users/rev.dr.sylviablessings/Downloads/GOOGL.csv')"
   ],
   "metadata": {
    "collapsed": false,
    "ExecuteTime": {
     "end_time": "2023-08-16T06:11:18.436774Z",
     "start_time": "2023-08-16T06:11:18.419679Z"
    }
   }
  },
  {
   "cell_type": "code",
   "execution_count": 3,
   "outputs": [
    {
     "data": {
      "text/plain": "         Date       Open       High        Low      Close  Adj Close    Volume\n0  2004-08-19  50.050049  52.082081  48.028027  50.220219  50.220219  44659096\n1  2004-08-20  50.555557  54.594597  50.300301  54.209209  54.209209  22834343\n2  2004-08-23  55.430431  56.796799  54.579578  54.754753  54.754753  18256126\n3  2004-08-24  55.675674  55.855858  51.836838  52.487488  52.487488  15247337\n4  2004-08-25  52.532532  54.054054  51.991993  53.053055  53.053055   9188602",
      "text/html": "<div>\n<style scoped>\n    .dataframe tbody tr th:only-of-type {\n        vertical-align: middle;\n    }\n\n    .dataframe tbody tr th {\n        vertical-align: top;\n    }\n\n    .dataframe thead th {\n        text-align: right;\n    }\n</style>\n<table border=\"1\" class=\"dataframe\">\n  <thead>\n    <tr style=\"text-align: right;\">\n      <th></th>\n      <th>Date</th>\n      <th>Open</th>\n      <th>High</th>\n      <th>Low</th>\n      <th>Close</th>\n      <th>Adj Close</th>\n      <th>Volume</th>\n    </tr>\n  </thead>\n  <tbody>\n    <tr>\n      <th>0</th>\n      <td>2004-08-19</td>\n      <td>50.050049</td>\n      <td>52.082081</td>\n      <td>48.028027</td>\n      <td>50.220219</td>\n      <td>50.220219</td>\n      <td>44659096</td>\n    </tr>\n    <tr>\n      <th>1</th>\n      <td>2004-08-20</td>\n      <td>50.555557</td>\n      <td>54.594597</td>\n      <td>50.300301</td>\n      <td>54.209209</td>\n      <td>54.209209</td>\n      <td>22834343</td>\n    </tr>\n    <tr>\n      <th>2</th>\n      <td>2004-08-23</td>\n      <td>55.430431</td>\n      <td>56.796799</td>\n      <td>54.579578</td>\n      <td>54.754753</td>\n      <td>54.754753</td>\n      <td>18256126</td>\n    </tr>\n    <tr>\n      <th>3</th>\n      <td>2004-08-24</td>\n      <td>55.675674</td>\n      <td>55.855858</td>\n      <td>51.836838</td>\n      <td>52.487488</td>\n      <td>52.487488</td>\n      <td>15247337</td>\n    </tr>\n    <tr>\n      <th>4</th>\n      <td>2004-08-25</td>\n      <td>52.532532</td>\n      <td>54.054054</td>\n      <td>51.991993</td>\n      <td>53.053055</td>\n      <td>53.053055</td>\n      <td>9188602</td>\n    </tr>\n  </tbody>\n</table>\n</div>"
     },
     "execution_count": 3,
     "metadata": {},
     "output_type": "execute_result"
    }
   ],
   "source": [
    "df.head()"
   ],
   "metadata": {
    "collapsed": false,
    "ExecuteTime": {
     "end_time": "2023-08-16T06:11:22.796407Z",
     "start_time": "2023-08-16T06:11:22.776093Z"
    }
   }
  },
  {
   "cell_type": "code",
   "execution_count": 4,
   "outputs": [
    {
     "data": {
      "text/plain": "            Date         Open         High          Low        Close  \\\n4426  2022-03-18  2668.489990  2724.879883  2645.169922  2722.510010   \n4427  2022-03-21  2723.270020  2741.000000  2681.850098  2722.030029   \n4428  2022-03-22  2722.030029  2821.000000  2722.030029  2797.360107   \n4429  2022-03-23  2774.050049  2791.770020  2756.699951  2765.510010   \n4430  2022-03-24  2784.000000  2832.379883  2755.010010  2831.439941   \n\n        Adj Close   Volume  \n4426  2722.510010  2223100  \n4427  2722.030029  1341600  \n4428  2797.360107  1774800  \n4429  2765.510010  1257700  \n4430  2831.439941  1317900  ",
      "text/html": "<div>\n<style scoped>\n    .dataframe tbody tr th:only-of-type {\n        vertical-align: middle;\n    }\n\n    .dataframe tbody tr th {\n        vertical-align: top;\n    }\n\n    .dataframe thead th {\n        text-align: right;\n    }\n</style>\n<table border=\"1\" class=\"dataframe\">\n  <thead>\n    <tr style=\"text-align: right;\">\n      <th></th>\n      <th>Date</th>\n      <th>Open</th>\n      <th>High</th>\n      <th>Low</th>\n      <th>Close</th>\n      <th>Adj Close</th>\n      <th>Volume</th>\n    </tr>\n  </thead>\n  <tbody>\n    <tr>\n      <th>4426</th>\n      <td>2022-03-18</td>\n      <td>2668.489990</td>\n      <td>2724.879883</td>\n      <td>2645.169922</td>\n      <td>2722.510010</td>\n      <td>2722.510010</td>\n      <td>2223100</td>\n    </tr>\n    <tr>\n      <th>4427</th>\n      <td>2022-03-21</td>\n      <td>2723.270020</td>\n      <td>2741.000000</td>\n      <td>2681.850098</td>\n      <td>2722.030029</td>\n      <td>2722.030029</td>\n      <td>1341600</td>\n    </tr>\n    <tr>\n      <th>4428</th>\n      <td>2022-03-22</td>\n      <td>2722.030029</td>\n      <td>2821.000000</td>\n      <td>2722.030029</td>\n      <td>2797.360107</td>\n      <td>2797.360107</td>\n      <td>1774800</td>\n    </tr>\n    <tr>\n      <th>4429</th>\n      <td>2022-03-23</td>\n      <td>2774.050049</td>\n      <td>2791.770020</td>\n      <td>2756.699951</td>\n      <td>2765.510010</td>\n      <td>2765.510010</td>\n      <td>1257700</td>\n    </tr>\n    <tr>\n      <th>4430</th>\n      <td>2022-03-24</td>\n      <td>2784.000000</td>\n      <td>2832.379883</td>\n      <td>2755.010010</td>\n      <td>2831.439941</td>\n      <td>2831.439941</td>\n      <td>1317900</td>\n    </tr>\n  </tbody>\n</table>\n</div>"
     },
     "execution_count": 4,
     "metadata": {},
     "output_type": "execute_result"
    }
   ],
   "source": [
    "df.tail()"
   ],
   "metadata": {
    "collapsed": false,
    "ExecuteTime": {
     "end_time": "2023-08-16T06:11:36.514557Z",
     "start_time": "2023-08-16T06:11:36.497115Z"
    }
   }
  },
  {
   "cell_type": "markdown",
   "source": [
    "## Calculate Moving Average\n",
    "#### Simple moving average and exponential moving average\n",
    "#### Calculate Moving Average Convergence & Divergence"
   ],
   "metadata": {
    "collapsed": false
   }
  },
  {
   "cell_type": "code",
   "execution_count": 5,
   "outputs": [],
   "source": [
    "def MA(data, period=30, column='Close'):\n",
    "    return data[column].rolling(window=period).mean()\n",
    "def EMA(data, period=20, column='Close'):\n",
    "    return data[column].ewm(span=period, adjust=False).mean()"
   ],
   "metadata": {
    "collapsed": false,
    "ExecuteTime": {
     "end_time": "2023-08-16T06:16:32.249662Z",
     "start_time": "2023-08-16T06:16:32.229277Z"
    }
   }
  },
  {
   "cell_type": "code",
   "execution_count": 9,
   "outputs": [],
   "source": [
    "# Calculate short and long term EMA\n",
    "def MACD(data, period_long=26, period_short=12, period_signal=9, column='Close'):\n",
    "    shortEMA = EMA(data, period=period_short, column=column)\n",
    "    longEMA = EMA(data, period=period_long, column=column)\n",
    "    data['MACD'] = shortEMA - longEMA\n",
    "    data['signal'] = EMA(data, period=period_signal, column='MACD')\n",
    "\n",
    "    return data"
   ],
   "metadata": {
    "collapsed": false,
    "ExecuteTime": {
     "end_time": "2023-08-16T06:31:56.304247Z",
     "start_time": "2023-08-16T06:31:56.293487Z"
    }
   }
  },
  {
   "cell_type": "code",
   "execution_count": 14,
   "outputs": [],
   "source": [
    "# Calculate RSI\n",
    "def RSI(data, period=14, column='Close'):\n",
    "    delta = data[column].diff(1)\n",
    "    delta = delta.dropna()\n",
    "    up = delta.copy()\n",
    "    down = delta.copy()\n",
    "    up[up < 0] = 0\n",
    "    down[down > 0] = 0\n",
    "    flat = 0\n",
    "    data['up'] = up\n",
    "    data['down'] = down\n",
    "    data['flat'] = flat\n",
    "    averageGain = MA(data, period, column='up')\n",
    "    averageLoss = abs(MA(data, period, column='down'))\n",
    "    RS = averageGain/averageLoss\n",
    "    RSI = 100.0 - (100.0/(1.0 + RS))\n",
    "\n",
    "    data['RSI'] = RSI\n",
    "    return data"
   ],
   "metadata": {
    "collapsed": false,
    "ExecuteTime": {
     "end_time": "2023-08-16T06:37:29.344622Z",
     "start_time": "2023-08-16T06:37:29.333827Z"
    }
   }
  },
  {
   "cell_type": "code",
   "execution_count": 15,
   "outputs": [
    {
     "name": "stderr",
     "output_type": "stream",
     "text": [
      "/var/folders/vh/9jy5nq5n6wl5cjp9y3m5l07w0000gn/T/ipykernel_94382/1377137480.py:5: SettingWithCopyWarning: \n",
      "A value is trying to be set on a copy of a slice from a DataFrame.\n",
      "Try using .loc[row_indexer,col_indexer] = value instead\n",
      "\n",
      "See the caveats in the documentation: https://pandas.pydata.org/pandas-docs/stable/user_guide/indexing.html#returning-a-view-versus-a-copy\n",
      "  data['MACD'] = shortEMA - longEMA\n",
      "/var/folders/vh/9jy5nq5n6wl5cjp9y3m5l07w0000gn/T/ipykernel_94382/1377137480.py:6: SettingWithCopyWarning: \n",
      "A value is trying to be set on a copy of a slice from a DataFrame.\n",
      "Try using .loc[row_indexer,col_indexer] = value instead\n",
      "\n",
      "See the caveats in the documentation: https://pandas.pydata.org/pandas-docs/stable/user_guide/indexing.html#returning-a-view-versus-a-copy\n",
      "  data['signal'] = EMA(data, period=period_signal, column='MACD')\n",
      "/var/folders/vh/9jy5nq5n6wl5cjp9y3m5l07w0000gn/T/ipykernel_94382/1724897114.py:10: SettingWithCopyWarning: \n",
      "A value is trying to be set on a copy of a slice from a DataFrame.\n",
      "Try using .loc[row_indexer,col_indexer] = value instead\n",
      "\n",
      "See the caveats in the documentation: https://pandas.pydata.org/pandas-docs/stable/user_guide/indexing.html#returning-a-view-versus-a-copy\n",
      "  data['up'] = up\n",
      "/var/folders/vh/9jy5nq5n6wl5cjp9y3m5l07w0000gn/T/ipykernel_94382/1724897114.py:11: SettingWithCopyWarning: \n",
      "A value is trying to be set on a copy of a slice from a DataFrame.\n",
      "Try using .loc[row_indexer,col_indexer] = value instead\n",
      "\n",
      "See the caveats in the documentation: https://pandas.pydata.org/pandas-docs/stable/user_guide/indexing.html#returning-a-view-versus-a-copy\n",
      "  data['down'] = down\n",
      "/var/folders/vh/9jy5nq5n6wl5cjp9y3m5l07w0000gn/T/ipykernel_94382/1724897114.py:12: SettingWithCopyWarning: \n",
      "A value is trying to be set on a copy of a slice from a DataFrame.\n",
      "Try using .loc[row_indexer,col_indexer] = value instead\n",
      "\n",
      "See the caveats in the documentation: https://pandas.pydata.org/pandas-docs/stable/user_guide/indexing.html#returning-a-view-versus-a-copy\n",
      "  data['flat'] = flat\n",
      "/var/folders/vh/9jy5nq5n6wl5cjp9y3m5l07w0000gn/T/ipykernel_94382/1724897114.py:18: SettingWithCopyWarning: \n",
      "A value is trying to be set on a copy of a slice from a DataFrame.\n",
      "Try using .loc[row_indexer,col_indexer] = value instead\n",
      "\n",
      "See the caveats in the documentation: https://pandas.pydata.org/pandas-docs/stable/user_guide/indexing.html#returning-a-view-versus-a-copy\n",
      "  data['RSI'] = RSI\n",
      "/var/folders/vh/9jy5nq5n6wl5cjp9y3m5l07w0000gn/T/ipykernel_94382/1187609038.py:3: SettingWithCopyWarning: \n",
      "A value is trying to be set on a copy of a slice from a DataFrame.\n",
      "Try using .loc[row_indexer,col_indexer] = value instead\n",
      "\n",
      "See the caveats in the documentation: https://pandas.pydata.org/pandas-docs/stable/user_guide/indexing.html#returning-a-view-versus-a-copy\n",
      "  df['MA'] = MA(df)\n",
      "/var/folders/vh/9jy5nq5n6wl5cjp9y3m5l07w0000gn/T/ipykernel_94382/1187609038.py:4: SettingWithCopyWarning: \n",
      "A value is trying to be set on a copy of a slice from a DataFrame.\n",
      "Try using .loc[row_indexer,col_indexer] = value instead\n",
      "\n",
      "See the caveats in the documentation: https://pandas.pydata.org/pandas-docs/stable/user_guide/indexing.html#returning-a-view-versus-a-copy\n",
      "  df['EMA'] = EMA(df)\n"
     ]
    },
    {
     "data": {
      "text/plain": "          Date       Open       High        Low      Close  Adj Close  \\\n29  2004-09-30  65.015015  66.216217  64.564568  64.864868  64.864868   \n30  2004-10-01  65.465462  67.187187  64.514519  66.356354  66.356354   \n31  2004-10-04  67.692696  68.503502  67.082085  67.597595  67.597595   \n32  2004-10-05  67.397400  69.334335  66.186188  69.254257  69.254257   \n33  2004-10-06  68.843842  69.294296  68.068069  68.608612  68.608612   \n\n      Volume      MACF      MACD    signal        up      down  RSI  MA  \\\n29  13758028  3.151901  0.000000  0.000000       NaN       NaN  NaN NaN   \n30  15124860  3.387715  0.118979  0.023796  1.491486  0.000000  NaN NaN   \n31  13022764  3.632879  0.309857  0.081008  1.241241  0.000000  NaN NaN   \n32  14973212  3.915714  0.588029  0.182412  1.656662  0.000000  NaN NaN   \n33  13381405  4.041181  0.747764  0.295483  0.000000 -0.645645  NaN NaN   \n\n          EMA  Target  flat  \n29  64.864868       1     0  \n30  65.006914       1     0  \n31  65.253646       1     0  \n32  65.634656       0     0  \n33  65.917890       1     0  ",
      "text/html": "<div>\n<style scoped>\n    .dataframe tbody tr th:only-of-type {\n        vertical-align: middle;\n    }\n\n    .dataframe tbody tr th {\n        vertical-align: top;\n    }\n\n    .dataframe thead th {\n        text-align: right;\n    }\n</style>\n<table border=\"1\" class=\"dataframe\">\n  <thead>\n    <tr style=\"text-align: right;\">\n      <th></th>\n      <th>Date</th>\n      <th>Open</th>\n      <th>High</th>\n      <th>Low</th>\n      <th>Close</th>\n      <th>Adj Close</th>\n      <th>Volume</th>\n      <th>MACF</th>\n      <th>MACD</th>\n      <th>signal</th>\n      <th>up</th>\n      <th>down</th>\n      <th>RSI</th>\n      <th>MA</th>\n      <th>EMA</th>\n      <th>Target</th>\n      <th>flat</th>\n    </tr>\n  </thead>\n  <tbody>\n    <tr>\n      <th>29</th>\n      <td>2004-09-30</td>\n      <td>65.015015</td>\n      <td>66.216217</td>\n      <td>64.564568</td>\n      <td>64.864868</td>\n      <td>64.864868</td>\n      <td>13758028</td>\n      <td>3.151901</td>\n      <td>0.000000</td>\n      <td>0.000000</td>\n      <td>NaN</td>\n      <td>NaN</td>\n      <td>NaN</td>\n      <td>NaN</td>\n      <td>64.864868</td>\n      <td>1</td>\n      <td>0</td>\n    </tr>\n    <tr>\n      <th>30</th>\n      <td>2004-10-01</td>\n      <td>65.465462</td>\n      <td>67.187187</td>\n      <td>64.514519</td>\n      <td>66.356354</td>\n      <td>66.356354</td>\n      <td>15124860</td>\n      <td>3.387715</td>\n      <td>0.118979</td>\n      <td>0.023796</td>\n      <td>1.491486</td>\n      <td>0.000000</td>\n      <td>NaN</td>\n      <td>NaN</td>\n      <td>65.006914</td>\n      <td>1</td>\n      <td>0</td>\n    </tr>\n    <tr>\n      <th>31</th>\n      <td>2004-10-04</td>\n      <td>67.692696</td>\n      <td>68.503502</td>\n      <td>67.082085</td>\n      <td>67.597595</td>\n      <td>67.597595</td>\n      <td>13022764</td>\n      <td>3.632879</td>\n      <td>0.309857</td>\n      <td>0.081008</td>\n      <td>1.241241</td>\n      <td>0.000000</td>\n      <td>NaN</td>\n      <td>NaN</td>\n      <td>65.253646</td>\n      <td>1</td>\n      <td>0</td>\n    </tr>\n    <tr>\n      <th>32</th>\n      <td>2004-10-05</td>\n      <td>67.397400</td>\n      <td>69.334335</td>\n      <td>66.186188</td>\n      <td>69.254257</td>\n      <td>69.254257</td>\n      <td>14973212</td>\n      <td>3.915714</td>\n      <td>0.588029</td>\n      <td>0.182412</td>\n      <td>1.656662</td>\n      <td>0.000000</td>\n      <td>NaN</td>\n      <td>NaN</td>\n      <td>65.634656</td>\n      <td>0</td>\n      <td>0</td>\n    </tr>\n    <tr>\n      <th>33</th>\n      <td>2004-10-06</td>\n      <td>68.843842</td>\n      <td>69.294296</td>\n      <td>68.068069</td>\n      <td>68.608612</td>\n      <td>68.608612</td>\n      <td>13381405</td>\n      <td>4.041181</td>\n      <td>0.747764</td>\n      <td>0.295483</td>\n      <td>0.000000</td>\n      <td>-0.645645</td>\n      <td>NaN</td>\n      <td>NaN</td>\n      <td>65.917890</td>\n      <td>1</td>\n      <td>0</td>\n    </tr>\n  </tbody>\n</table>\n</div>"
     },
     "execution_count": 15,
     "metadata": {},
     "output_type": "execute_result"
    }
   ],
   "source": [
    "MACD(df)\n",
    "RSI(df)\n",
    "df['MA'] = MA(df)\n",
    "df['EMA'] = EMA(df)\n",
    "\n",
    "df.head()"
   ],
   "metadata": {
    "collapsed": false,
    "ExecuteTime": {
     "end_time": "2023-08-16T06:37:32.374971Z",
     "start_time": "2023-08-16T06:37:32.328780Z"
    }
   }
  },
  {
   "cell_type": "code",
   "execution_count": 16,
   "outputs": [
    {
     "name": "stderr",
     "output_type": "stream",
     "text": [
      "/var/folders/vh/9jy5nq5n6wl5cjp9y3m5l07w0000gn/T/ipykernel_94382/1361030456.py:1: SettingWithCopyWarning: \n",
      "A value is trying to be set on a copy of a slice from a DataFrame.\n",
      "Try using .loc[row_indexer,col_indexer] = value instead\n",
      "\n",
      "See the caveats in the documentation: https://pandas.pydata.org/pandas-docs/stable/user_guide/indexing.html#returning-a-view-versus-a-copy\n",
      "  df['Target'] = np.where(df['Close'].shift(-1) > df['Close'], 1, 0)\n"
     ]
    },
    {
     "data": {
      "text/plain": "          Date       Open       High        Low      Close  Adj Close  \\\n29  2004-09-30  65.015015  66.216217  64.564568  64.864868  64.864868   \n30  2004-10-01  65.465462  67.187187  64.514519  66.356354  66.356354   \n31  2004-10-04  67.692696  68.503502  67.082085  67.597595  67.597595   \n32  2004-10-05  67.397400  69.334335  66.186188  69.254257  69.254257   \n33  2004-10-06  68.843842  69.294296  68.068069  68.608612  68.608612   \n\n      Volume      MACF      MACD    signal        up      down  RSI  MA  \\\n29  13758028  3.151901  0.000000  0.000000       NaN       NaN  NaN NaN   \n30  15124860  3.387715  0.118979  0.023796  1.491486  0.000000  NaN NaN   \n31  13022764  3.632879  0.309857  0.081008  1.241241  0.000000  NaN NaN   \n32  14973212  3.915714  0.588029  0.182412  1.656662  0.000000  NaN NaN   \n33  13381405  4.041181  0.747764  0.295483  0.000000 -0.645645  NaN NaN   \n\n          EMA  Target  flat  \n29  64.864868       1     0  \n30  65.006914       1     0  \n31  65.253646       1     0  \n32  65.634656       0     0  \n33  65.917890       1     0  ",
      "text/html": "<div>\n<style scoped>\n    .dataframe tbody tr th:only-of-type {\n        vertical-align: middle;\n    }\n\n    .dataframe tbody tr th {\n        vertical-align: top;\n    }\n\n    .dataframe thead th {\n        text-align: right;\n    }\n</style>\n<table border=\"1\" class=\"dataframe\">\n  <thead>\n    <tr style=\"text-align: right;\">\n      <th></th>\n      <th>Date</th>\n      <th>Open</th>\n      <th>High</th>\n      <th>Low</th>\n      <th>Close</th>\n      <th>Adj Close</th>\n      <th>Volume</th>\n      <th>MACF</th>\n      <th>MACD</th>\n      <th>signal</th>\n      <th>up</th>\n      <th>down</th>\n      <th>RSI</th>\n      <th>MA</th>\n      <th>EMA</th>\n      <th>Target</th>\n      <th>flat</th>\n    </tr>\n  </thead>\n  <tbody>\n    <tr>\n      <th>29</th>\n      <td>2004-09-30</td>\n      <td>65.015015</td>\n      <td>66.216217</td>\n      <td>64.564568</td>\n      <td>64.864868</td>\n      <td>64.864868</td>\n      <td>13758028</td>\n      <td>3.151901</td>\n      <td>0.000000</td>\n      <td>0.000000</td>\n      <td>NaN</td>\n      <td>NaN</td>\n      <td>NaN</td>\n      <td>NaN</td>\n      <td>64.864868</td>\n      <td>1</td>\n      <td>0</td>\n    </tr>\n    <tr>\n      <th>30</th>\n      <td>2004-10-01</td>\n      <td>65.465462</td>\n      <td>67.187187</td>\n      <td>64.514519</td>\n      <td>66.356354</td>\n      <td>66.356354</td>\n      <td>15124860</td>\n      <td>3.387715</td>\n      <td>0.118979</td>\n      <td>0.023796</td>\n      <td>1.491486</td>\n      <td>0.000000</td>\n      <td>NaN</td>\n      <td>NaN</td>\n      <td>65.006914</td>\n      <td>1</td>\n      <td>0</td>\n    </tr>\n    <tr>\n      <th>31</th>\n      <td>2004-10-04</td>\n      <td>67.692696</td>\n      <td>68.503502</td>\n      <td>67.082085</td>\n      <td>67.597595</td>\n      <td>67.597595</td>\n      <td>13022764</td>\n      <td>3.632879</td>\n      <td>0.309857</td>\n      <td>0.081008</td>\n      <td>1.241241</td>\n      <td>0.000000</td>\n      <td>NaN</td>\n      <td>NaN</td>\n      <td>65.253646</td>\n      <td>1</td>\n      <td>0</td>\n    </tr>\n    <tr>\n      <th>32</th>\n      <td>2004-10-05</td>\n      <td>67.397400</td>\n      <td>69.334335</td>\n      <td>66.186188</td>\n      <td>69.254257</td>\n      <td>69.254257</td>\n      <td>14973212</td>\n      <td>3.915714</td>\n      <td>0.588029</td>\n      <td>0.182412</td>\n      <td>1.656662</td>\n      <td>0.000000</td>\n      <td>NaN</td>\n      <td>NaN</td>\n      <td>65.634656</td>\n      <td>0</td>\n      <td>0</td>\n    </tr>\n    <tr>\n      <th>33</th>\n      <td>2004-10-06</td>\n      <td>68.843842</td>\n      <td>69.294296</td>\n      <td>68.068069</td>\n      <td>68.608612</td>\n      <td>68.608612</td>\n      <td>13381405</td>\n      <td>4.041181</td>\n      <td>0.747764</td>\n      <td>0.295483</td>\n      <td>0.000000</td>\n      <td>-0.645645</td>\n      <td>NaN</td>\n      <td>NaN</td>\n      <td>65.917890</td>\n      <td>1</td>\n      <td>0</td>\n    </tr>\n  </tbody>\n</table>\n</div>"
     },
     "execution_count": 16,
     "metadata": {},
     "output_type": "execute_result"
    }
   ],
   "source": [
    "df['Target'] = np.where(df['Close'].shift(-1) > df['Close'], 1, 0)\n",
    "df.head()"
   ],
   "metadata": {
    "collapsed": false,
    "ExecuteTime": {
     "end_time": "2023-08-16T06:37:42.161940Z",
     "start_time": "2023-08-16T06:37:42.076838Z"
    }
   }
  },
  {
   "cell_type": "markdown",
   "source": [
    "## More Data Preprocessing"
   ],
   "metadata": {
    "collapsed": false
   }
  },
  {
   "cell_type": "code",
   "execution_count": 17,
   "outputs": [
    {
     "data": {
      "text/plain": "          Date       Open       High        Low      Close  Adj Close  \\\n58  2004-11-10  85.420418  86.346344  83.248245  84.014015  84.014015   \n59  2004-11-11  84.649651  91.966965  83.868866  91.601601  91.601601   \n60  2004-11-12  92.707710  94.994995  88.788788  91.091087  91.091087   \n61  2004-11-15  90.315315  94.254257  89.464462  92.527527  92.527527   \n62  2004-11-16  88.838837  89.824821  85.500504  86.356354  86.356354   \n\n      Volume      MACF      MACD    signal        up      down        RSI  \\\n58  21266712  5.147450  4.372414  5.845444  0.000000 -0.420418  59.453653   \n59  29941029  5.086060  4.365677  5.549491  7.587586  0.000000  55.893155   \n60  33458708  4.939278  4.269923  5.293577  0.000000 -0.510514  46.442685   \n61  23779197  4.882576  4.260829  5.087027  1.436440  0.000000  52.097854   \n62  41792965  4.290223  3.712861  4.812194  0.000000 -6.171173  41.743513   \n\n           MA        EMA  Target  flat  \n58  79.966300  85.235634       1     0  \n59  80.857524  85.841917       0     0  \n60  81.682015  86.341838       1     0  \n61  82.513013  86.930951       0     0  \n62  83.083083  86.876228       0     0  ",
      "text/html": "<div>\n<style scoped>\n    .dataframe tbody tr th:only-of-type {\n        vertical-align: middle;\n    }\n\n    .dataframe tbody tr th {\n        vertical-align: top;\n    }\n\n    .dataframe thead th {\n        text-align: right;\n    }\n</style>\n<table border=\"1\" class=\"dataframe\">\n  <thead>\n    <tr style=\"text-align: right;\">\n      <th></th>\n      <th>Date</th>\n      <th>Open</th>\n      <th>High</th>\n      <th>Low</th>\n      <th>Close</th>\n      <th>Adj Close</th>\n      <th>Volume</th>\n      <th>MACF</th>\n      <th>MACD</th>\n      <th>signal</th>\n      <th>up</th>\n      <th>down</th>\n      <th>RSI</th>\n      <th>MA</th>\n      <th>EMA</th>\n      <th>Target</th>\n      <th>flat</th>\n    </tr>\n  </thead>\n  <tbody>\n    <tr>\n      <th>58</th>\n      <td>2004-11-10</td>\n      <td>85.420418</td>\n      <td>86.346344</td>\n      <td>83.248245</td>\n      <td>84.014015</td>\n      <td>84.014015</td>\n      <td>21266712</td>\n      <td>5.147450</td>\n      <td>4.372414</td>\n      <td>5.845444</td>\n      <td>0.000000</td>\n      <td>-0.420418</td>\n      <td>59.453653</td>\n      <td>79.966300</td>\n      <td>85.235634</td>\n      <td>1</td>\n      <td>0</td>\n    </tr>\n    <tr>\n      <th>59</th>\n      <td>2004-11-11</td>\n      <td>84.649651</td>\n      <td>91.966965</td>\n      <td>83.868866</td>\n      <td>91.601601</td>\n      <td>91.601601</td>\n      <td>29941029</td>\n      <td>5.086060</td>\n      <td>4.365677</td>\n      <td>5.549491</td>\n      <td>7.587586</td>\n      <td>0.000000</td>\n      <td>55.893155</td>\n      <td>80.857524</td>\n      <td>85.841917</td>\n      <td>0</td>\n      <td>0</td>\n    </tr>\n    <tr>\n      <th>60</th>\n      <td>2004-11-12</td>\n      <td>92.707710</td>\n      <td>94.994995</td>\n      <td>88.788788</td>\n      <td>91.091087</td>\n      <td>91.091087</td>\n      <td>33458708</td>\n      <td>4.939278</td>\n      <td>4.269923</td>\n      <td>5.293577</td>\n      <td>0.000000</td>\n      <td>-0.510514</td>\n      <td>46.442685</td>\n      <td>81.682015</td>\n      <td>86.341838</td>\n      <td>1</td>\n      <td>0</td>\n    </tr>\n    <tr>\n      <th>61</th>\n      <td>2004-11-15</td>\n      <td>90.315315</td>\n      <td>94.254257</td>\n      <td>89.464462</td>\n      <td>92.527527</td>\n      <td>92.527527</td>\n      <td>23779197</td>\n      <td>4.882576</td>\n      <td>4.260829</td>\n      <td>5.087027</td>\n      <td>1.436440</td>\n      <td>0.000000</td>\n      <td>52.097854</td>\n      <td>82.513013</td>\n      <td>86.930951</td>\n      <td>0</td>\n      <td>0</td>\n    </tr>\n    <tr>\n      <th>62</th>\n      <td>2004-11-16</td>\n      <td>88.838837</td>\n      <td>89.824821</td>\n      <td>85.500504</td>\n      <td>86.356354</td>\n      <td>86.356354</td>\n      <td>41792965</td>\n      <td>4.290223</td>\n      <td>3.712861</td>\n      <td>4.812194</td>\n      <td>0.000000</td>\n      <td>-6.171173</td>\n      <td>41.743513</td>\n      <td>83.083083</td>\n      <td>86.876228</td>\n      <td>0</td>\n      <td>0</td>\n    </tr>\n  </tbody>\n</table>\n</div>"
     },
     "execution_count": 17,
     "metadata": {},
     "output_type": "execute_result"
    }
   ],
   "source": [
    "df = df[29:]\n",
    "df.head()"
   ],
   "metadata": {
    "collapsed": false,
    "ExecuteTime": {
     "end_time": "2023-08-16T06:37:53.546279Z",
     "start_time": "2023-08-16T06:37:53.487494Z"
    }
   }
  },
  {
   "cell_type": "markdown",
   "source": [
    "## Split into Training and Testing Sets"
   ],
   "metadata": {
    "collapsed": false
   }
  },
  {
   "cell_type": "code",
   "execution_count": 19,
   "outputs": [],
   "source": [
    "columns = ['Close', 'MACD', 'signal', 'RSI', 'MA', 'EMA']\n",
    "X = df[columns].values\n",
    "y = df['Target'].values"
   ],
   "metadata": {
    "collapsed": false,
    "ExecuteTime": {
     "end_time": "2023-08-16T06:38:59.338507Z",
     "start_time": "2023-08-16T06:38:59.276983Z"
    }
   }
  },
  {
   "cell_type": "code",
   "execution_count": 24,
   "outputs": [],
   "source": [
    "X_train, X_test, y_train, y_test = train_test_split(X, y, test_size=0.20, random_state=3)"
   ],
   "metadata": {
    "collapsed": false,
    "ExecuteTime": {
     "end_time": "2023-08-16T06:42:12.069776Z",
     "start_time": "2023-08-16T06:42:12.048477Z"
    }
   }
  },
  {
   "cell_type": "markdown",
   "source": [
    "## Create Model"
   ],
   "metadata": {
    "collapsed": false
   }
  },
  {
   "cell_type": "code",
   "execution_count": 25,
   "outputs": [],
   "source": [
    "model =  DecisionTreeClassifier().fit(X_train, y_train)"
   ],
   "metadata": {
    "collapsed": false,
    "ExecuteTime": {
     "end_time": "2023-08-16T06:42:13.906984Z",
     "start_time": "2023-08-16T06:42:13.851599Z"
    }
   }
  },
  {
   "cell_type": "code",
   "execution_count": 26,
   "outputs": [
    {
     "name": "stdout",
     "output_type": "stream",
     "text": [
      "1.0\n"
     ]
    }
   ],
   "source": [
    "print(model.score(X_train, y_train))"
   ],
   "metadata": {
    "collapsed": false,
    "ExecuteTime": {
     "end_time": "2023-08-16T06:42:14.466842Z",
     "start_time": "2023-08-16T06:42:14.394089Z"
    }
   }
  },
  {
   "cell_type": "markdown",
   "source": [
    "## Test Validity"
   ],
   "metadata": {
    "collapsed": false
   }
  },
  {
   "cell_type": "code",
   "execution_count": 27,
   "outputs": [
    {
     "name": "stdout",
     "output_type": "stream",
     "text": [
      "0.5142857142857142\n"
     ]
    }
   ],
   "source": [
    "print(model.score(X_test, y_test))"
   ],
   "metadata": {
    "collapsed": false,
    "ExecuteTime": {
     "end_time": "2023-08-16T06:42:16.460186Z",
     "start_time": "2023-08-16T06:42:16.447618Z"
    }
   }
  },
  {
   "cell_type": "code",
   "execution_count": 28,
   "outputs": [
    {
     "name": "stdout",
     "output_type": "stream",
     "text": [
      "[0 0 1 0 0 0 0 1 1 0 0 0 0 1 1 1 0 1 0 0 0 0 1 0 0 1 1 0 1 1 0 0 1 1 1 0 1\n",
      " 0 1 0 1 1 1 1 0 1 1 1 1 1 1 0 0 1 1 0 1 0 1 1 0 1 1 0 0 0 0 1 1 1 1 0 1 1\n",
      " 1 0 1 0 0 0 0 1 0 1 1 1 0 1 1 0 0 0 0 0 1 1 0 1 1 1 1 0 0 0 1 0 1 0 1 0 0\n",
      " 1 0 0 1 1 0 0 0 1 0 1 0 1 1 1 0 1 1 0 0 0 0 0 1 1 1 0 1 1 1 1 1 0 1 1 1 1\n",
      " 0 0 0 0 0 1 0 0 1 1 1 1 1 1 0 1 0 1 1 0 1 0 1 1 1 0 1 0 1 0 1 1 1 1 0 0 0\n",
      " 0 0 1 1 1 1 0 0 0 0 0 0 1 0 1 1 1 0 1 0 0 1 0 1 1 0 1 0 1 1 0 0 1 0 1 1 1\n",
      " 1 0 0 1 0 0 0 1 1 0 1 0 1 0 1 1 0 0 1 1 1 1 0 0 0 0 0 1 0 1 1 0 1 0 1 1 0\n",
      " 0 1 1 1 1 1 1 0 1 0 0 0 0 1 1 0 0 0 0 1 0 1 1 0 0 0 1 1 1 1 1 0 1 0 1 0 0\n",
      " 1 1 1 0 1 0 1 1 0 1 0 0 0 1 0 0 0 0 0 1 0 1 1 1 1 1 0 0 1 1 0 0 1 0 1 0 1\n",
      " 0 0 0 0 1 1 1 0 0 1 0 1 1 0 0 1 1 1 1 0 0 1 0 0 1 0 0 1 0 1 1 0 0 0 1 1 0\n",
      " 0 1 1 0 0 1 0 0 0 1 1 0 1 1 1 1 0 1 0 1 0 0 0 1 1 1 1 0 0 0 0 1 0 0 1 1 0\n",
      " 1 1 0 1 1 1 1 0 0 1 0 1 1 0 1 0 1 0 0 0 1 1 1 1 0 1 0 0 1 1 0 1 1 1 1 1 0\n",
      " 1 0 0 1 1 1 0 1 1 1 1 0 1 1 0 1 1 1 1 1 1 0 0 0 1 0 1 0 0 1 1 0 0 1 0 0 1\n",
      " 0 1 0 0 0 1 0 0 0 1 0 0 1 0 1 0 0 1 0 1 1 0 0 0 0 1 1 1 1 0 1 0 0 1 0 1 1\n",
      " 1 0 0 1 1 1 1 0 0 0 0 0 0 0 1 1 0 0 0 0 1 0 0 1 0 1 1 0 0 0 1 1 1 1 1 1 1\n",
      " 0 1 1 1 0 0 0 0 0 0 1 1 0 0 1 1 1 0 0 1 1 1 0 1 0 1 1 0 0 1 1 0 0 0 0 0 1\n",
      " 0 0 1 1 0 0 0 1 1 0 0 0 0 0 1 0 0 1 1 1 0 1 0 0 0 1 1 1 0 0 0 1 1 0 1 0 0\n",
      " 1 0 1 1 1 0 0 1 1 1 1 0 0 1 0 1 0 1 1 0 0 1 1 0 1 0 1 1 1 0 0 0 0 0 1 0 1\n",
      " 1 1 0 1 0 1 0 1 1 0 1 1 0 0 1 0 0 1 1 1 1 1 1 0 1 1 1 1 1 1 0 0 0 1 0 1 1\n",
      " 0 1 1 0 1 0 0 0 1 0 0 0 1 0 1 1 1 1 0 1 1 0 1 0 0 0 1 0 0 1 1 1 1 0 0 0 1\n",
      " 1 1 0 1 1 0 1 1 0 0 0 0 0 1 1 1 0 1 1 1 1 1 0 0 1 1 1 1 1 1 1 1 1 1 0 1 0\n",
      " 0 0 1 1 0 0 1 0 0 0 1 1 0 0 0 1 1 1 0 0 1 1 1 0 0 1 0 1 1 0 1 1 1 0 1 0 1\n",
      " 1 1 0 0 0 0 1 0 1 1 0 0 1 0 1 0 0 0 0 0 0 1 0 1 1 1 1 1 1 1 0 0 1 0 0 0 0\n",
      " 1 0 1 0 0 0 0 1 1 1 0 1 1 0 0 0 0 0 1 0 0 0 1 1]\n"
     ]
    }
   ],
   "source": [
    "predictions = model.predict(X_test)\n",
    "print(predictions)"
   ],
   "metadata": {
    "collapsed": false,
    "ExecuteTime": {
     "end_time": "2023-08-16T06:42:50.087503Z",
     "start_time": "2023-08-16T06:42:50.062122Z"
    }
   }
  },
  {
   "cell_type": "code",
   "execution_count": 29,
   "outputs": [
    {
     "name": "stdout",
     "output_type": "stream",
     "text": [
      "              precision    recall  f1-score   support\n",
      "\n",
      "           0       0.51      0.50      0.50       434\n",
      "           1       0.52      0.53      0.52       441\n",
      "\n",
      "    accuracy                           0.51       875\n",
      "   macro avg       0.51      0.51      0.51       875\n",
      "weighted avg       0.51      0.51      0.51       875\n",
      "\n"
     ]
    }
   ],
   "source": [
    "from sklearn.metrics import classification_report\n",
    "print(classification_report(y_test, predictions))"
   ],
   "metadata": {
    "collapsed": false,
    "ExecuteTime": {
     "end_time": "2023-08-16T06:44:21.167382Z",
     "start_time": "2023-08-16T06:44:21.147312Z"
    }
   }
  },
  {
   "cell_type": "code",
   "execution_count": 30,
   "outputs": [],
   "source": [
    "from sklearn.ensemble import RandomForestClassifier"
   ],
   "metadata": {
    "collapsed": false,
    "ExecuteTime": {
     "end_time": "2023-08-16T06:45:49.866534Z",
     "start_time": "2023-08-16T06:45:49.408463Z"
    }
   }
  },
  {
   "cell_type": "code",
   "execution_count": 31,
   "outputs": [],
   "source": [
    "model_ = RandomForestClassifier().fit(X_train, y_train)"
   ],
   "metadata": {
    "collapsed": false,
    "ExecuteTime": {
     "end_time": "2023-08-16T06:46:25.974148Z",
     "start_time": "2023-08-16T06:46:24.400081Z"
    }
   }
  },
  {
   "cell_type": "code",
   "execution_count": 32,
   "outputs": [
    {
     "data": {
      "text/plain": "0.5211428571428571"
     },
     "execution_count": 32,
     "metadata": {},
     "output_type": "execute_result"
    }
   ],
   "source": [
    "model_.score(X_test, y_test)"
   ],
   "metadata": {
    "collapsed": false,
    "ExecuteTime": {
     "end_time": "2023-08-16T06:47:15.129449Z",
     "start_time": "2023-08-16T06:47:15.083589Z"
    }
   }
  },
  {
   "cell_type": "code",
   "execution_count": 35,
   "outputs": [
    {
     "name": "stdout",
     "output_type": "stream",
     "text": [
      "[1 0 1 0 0 0 1 0 0 0 0 0 1 1 0 1 0 1 0 0 0 0 1 0 0 1 1 0 0 1 1 0 1 1 0 0 1\n",
      " 1 1 0 1 1 1 0 0 0 1 1 1 1 1 0 1 1 1 1 1 0 1 0 0 1 1 1 1 1 1 0 0 0 0 1 0 1\n",
      " 1 1 1 0 0 1 0 1 1 1 0 0 0 0 1 0 0 0 1 1 1 1 0 0 1 1 1 1 0 1 1 0 1 1 0 1 1\n",
      " 0 1 0 1 1 1 1 0 1 1 1 1 1 0 1 0 0 1 0 1 0 0 1 0 1 1 0 0 1 0 1 0 0 0 1 1 0\n",
      " 1 1 0 0 1 1 0 0 0 1 1 1 0 1 0 1 0 1 0 1 0 1 1 1 1 0 1 0 1 1 1 1 0 0 0 1 1\n",
      " 1 0 0 1 0 1 1 1 0 0 1 0 0 0 1 1 1 0 1 1 1 1 0 1 1 0 0 0 1 1 1 0 1 0 1 1 1\n",
      " 0 1 0 0 1 0 0 1 1 0 1 0 1 0 0 1 0 1 1 1 1 1 1 0 0 0 0 1 1 1 0 1 1 0 1 1 1\n",
      " 0 0 0 1 1 0 1 1 1 0 0 1 0 1 0 1 0 1 0 1 0 1 0 1 0 0 1 0 0 1 1 0 1 0 0 0 1\n",
      " 1 0 0 0 0 0 1 1 0 0 1 1 0 0 1 1 0 0 0 1 0 1 1 1 1 0 0 0 0 1 1 0 1 0 1 0 1\n",
      " 0 0 0 0 1 0 1 0 1 0 1 1 1 1 1 1 0 1 1 0 0 0 1 0 1 0 0 0 0 1 1 1 0 1 1 0 1\n",
      " 1 1 1 0 1 0 1 1 1 0 1 0 1 1 1 0 0 1 1 0 1 1 1 1 1 0 0 0 0 1 0 1 0 0 1 0 1\n",
      " 1 1 0 1 1 1 1 1 1 0 1 0 1 0 1 0 1 1 0 0 0 0 1 0 0 1 0 0 1 0 0 1 1 0 1 1 0\n",
      " 0 0 0 0 1 1 1 1 0 1 1 0 0 0 0 1 1 1 1 0 0 1 0 0 0 0 0 1 0 1 0 0 1 1 0 0 1\n",
      " 0 1 0 0 0 1 1 0 0 1 0 1 1 1 1 0 1 0 1 0 0 0 1 0 0 1 1 1 1 0 1 0 0 1 1 1 1\n",
      " 1 0 0 1 1 1 1 0 0 1 0 0 0 1 1 1 0 0 0 0 0 1 0 1 0 1 1 0 1 1 1 1 0 1 1 1 1\n",
      " 0 1 1 1 0 0 1 1 0 1 1 1 0 0 0 1 1 0 1 1 1 0 1 1 1 1 0 0 1 1 1 1 0 0 0 0 1\n",
      " 0 0 1 0 0 1 0 0 1 0 0 0 0 0 1 1 0 1 1 0 0 1 0 1 0 1 1 1 0 1 1 0 0 0 1 0 0\n",
      " 1 0 1 1 1 0 1 1 1 1 0 0 0 0 0 1 0 0 0 1 1 1 1 0 1 0 0 1 1 1 0 0 1 0 1 0 0\n",
      " 1 1 0 1 0 0 0 1 1 0 1 1 0 0 1 0 0 0 1 1 1 0 1 0 1 0 1 0 1 0 0 1 0 1 0 0 1\n",
      " 0 1 1 0 1 1 0 0 1 0 0 0 1 0 0 0 0 1 0 0 1 0 1 0 0 0 1 1 0 1 1 1 1 0 0 0 1\n",
      " 0 0 0 1 0 0 0 1 1 0 0 1 1 1 1 0 1 0 1 1 1 1 1 1 0 0 0 0 1 1 0 0 1 1 1 1 1\n",
      " 0 0 0 0 0 0 1 0 0 1 1 1 1 0 0 1 1 1 0 0 1 0 1 0 1 1 0 1 0 1 1 1 0 1 1 0 1\n",
      " 0 1 1 1 1 0 1 1 0 0 0 0 1 1 0 0 1 1 0 0 0 1 1 1 0 1 0 1 1 1 0 1 1 0 1 1 0\n",
      " 1 1 1 0 0 0 0 1 1 1 0 1 1 0 0 0 0 1 1 0 0 0 1 0]\n"
     ]
    }
   ],
   "source": [
    "predictions_ = model_.predict(X_test)\n",
    "print(predictions_)"
   ],
   "metadata": {
    "collapsed": false,
    "ExecuteTime": {
     "end_time": "2023-08-16T06:47:55.907317Z",
     "start_time": "2023-08-16T06:47:55.847269Z"
    }
   }
  },
  {
   "cell_type": "code",
   "execution_count": 36,
   "outputs": [
    {
     "name": "stdout",
     "output_type": "stream",
     "text": [
      "              precision    recall  f1-score   support\n",
      "\n",
      "           0       0.52      0.50      0.51       434\n",
      "           1       0.52      0.55      0.53       441\n",
      "\n",
      "    accuracy                           0.52       875\n",
      "   macro avg       0.52      0.52      0.52       875\n",
      "weighted avg       0.52      0.52      0.52       875\n",
      "\n"
     ]
    }
   ],
   "source": [
    "print(classification_report(y_test, predictions_))"
   ],
   "metadata": {
    "collapsed": false,
    "ExecuteTime": {
     "end_time": "2023-08-16T06:48:01.685353Z",
     "start_time": "2023-08-16T06:48:01.670700Z"
    }
   }
  },
  {
   "cell_type": "code",
   "execution_count": null,
   "outputs": [],
   "source": [],
   "metadata": {
    "collapsed": false
   }
  }
 ],
 "metadata": {
  "kernelspec": {
   "display_name": "Python 3",
   "language": "python",
   "name": "python3"
  },
  "language_info": {
   "codemirror_mode": {
    "name": "ipython",
    "version": 2
   },
   "file_extension": ".py",
   "mimetype": "text/x-python",
   "name": "python",
   "nbconvert_exporter": "python",
   "pygments_lexer": "ipython2",
   "version": "2.7.6"
  }
 },
 "nbformat": 4,
 "nbformat_minor": 0
}
