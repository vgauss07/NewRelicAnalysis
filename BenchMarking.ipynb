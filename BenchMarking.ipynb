{
 "cells": [
  {
   "cell_type": "code",
   "execution_count": null,
   "metadata": {
    "collapsed": true,
    "ExecuteTime": {
     "end_time": "2023-08-16T04:43:38.246312Z",
     "start_time": "2023-08-16T04:43:38.241713Z"
    }
   },
   "outputs": [],
   "source": []
  },
  {
   "cell_type": "code",
   "execution_count": 1,
   "outputs": [
    {
     "data": {
      "text/html": "        <script type=\"text/javascript\">\n        window.PlotlyConfig = {MathJaxConfig: 'local'};\n        if (window.MathJax && window.MathJax.Hub && window.MathJax.Hub.Config) {window.MathJax.Hub.Config({SVG: {font: \"STIX-Web\"}});}\n        if (typeof require !== 'undefined') {\n        require.undef(\"plotly\");\n        requirejs.config({\n            paths: {\n                'plotly': ['https://cdn.plot.ly/plotly-2.24.1.min']\n            }\n        });\n        require(['plotly'], function(Plotly) {\n            window._Plotly = Plotly;\n        });\n        }\n        </script>\n        "
     },
     "metadata": {},
     "output_type": "display_data"
    }
   ],
   "source": [
    "import pandas as pd\n",
    "import numpy as np\n",
    "import datetime\n",
    "import matplotlib.pyplot as plt\n",
    "import plotly.graph_objs as go\n",
    "%matplotlib inline\n",
    "\n",
    "from plotly import __version__\n",
    "from plotly.offline import download_plotlyjs, init_notebook_mode, plot, iplot\n",
    "init_notebook_mode(connected=True)"
   ],
   "metadata": {
    "collapsed": false,
    "ExecuteTime": {
     "end_time": "2023-08-16T04:48:12.112841Z",
     "start_time": "2023-08-16T04:48:11.823949Z"
    }
   }
  },
  {
   "cell_type": "code",
   "execution_count": 3,
   "outputs": [],
   "source": [
    "df = pd.read_excel('/Users/rev.dr.sylviablessings/Downloads/Sample stocks acquisition dates_costs.xlsx', sheet_name='Sample')"
   ],
   "metadata": {
    "collapsed": false,
    "ExecuteTime": {
     "end_time": "2023-08-16T04:51:01.500223Z",
     "start_time": "2023-08-16T04:51:01.483111Z"
    }
   }
  },
  {
   "cell_type": "code",
   "execution_count": 5,
   "outputs": [
    {
     "data": {
      "text/plain": "  Acquisition Date Ticker  Quantity  Unit Cost  Cost Basis Start of Year\n3       2015-12-14   MTCH       600      13.63     8178.00    2017-12-29\n4       2016-01-14   NFLX        75     108.71     8153.25    2017-12-29\n5       2013-08-14    WMT       125      68.30     8537.50    2017-12-29\n6       2013-12-13     FB       150      53.32     7998.00    2017-12-29\n7       2015-01-05   TWTR       225      36.38     8185.50    2017-12-29",
      "text/html": "<div>\n<style scoped>\n    .dataframe tbody tr th:only-of-type {\n        vertical-align: middle;\n    }\n\n    .dataframe tbody tr th {\n        vertical-align: top;\n    }\n\n    .dataframe thead th {\n        text-align: right;\n    }\n</style>\n<table border=\"1\" class=\"dataframe\">\n  <thead>\n    <tr style=\"text-align: right;\">\n      <th></th>\n      <th>Acquisition Date</th>\n      <th>Ticker</th>\n      <th>Quantity</th>\n      <th>Unit Cost</th>\n      <th>Cost Basis</th>\n      <th>Start of Year</th>\n    </tr>\n  </thead>\n  <tbody>\n    <tr>\n      <th>3</th>\n      <td>2015-12-14</td>\n      <td>MTCH</td>\n      <td>600</td>\n      <td>13.63</td>\n      <td>8178.00</td>\n      <td>2017-12-29</td>\n    </tr>\n    <tr>\n      <th>4</th>\n      <td>2016-01-14</td>\n      <td>NFLX</td>\n      <td>75</td>\n      <td>108.71</td>\n      <td>8153.25</td>\n      <td>2017-12-29</td>\n    </tr>\n    <tr>\n      <th>5</th>\n      <td>2013-08-14</td>\n      <td>WMT</td>\n      <td>125</td>\n      <td>68.30</td>\n      <td>8537.50</td>\n      <td>2017-12-29</td>\n    </tr>\n    <tr>\n      <th>6</th>\n      <td>2013-12-13</td>\n      <td>FB</td>\n      <td>150</td>\n      <td>53.32</td>\n      <td>7998.00</td>\n      <td>2017-12-29</td>\n    </tr>\n    <tr>\n      <th>7</th>\n      <td>2015-01-05</td>\n      <td>TWTR</td>\n      <td>225</td>\n      <td>36.38</td>\n      <td>8185.50</td>\n      <td>2017-12-29</td>\n    </tr>\n  </tbody>\n</table>\n</div>"
     },
     "execution_count": 5,
     "metadata": {},
     "output_type": "execute_result"
    }
   ],
   "source": [
    "df.tail()"
   ],
   "metadata": {
    "collapsed": false,
    "ExecuteTime": {
     "end_time": "2023-08-16T04:51:42.578742Z",
     "start_time": "2023-08-16T04:51:42.567401Z"
    }
   }
  },
  {
   "cell_type": "code",
   "execution_count": 6,
   "outputs": [],
   "source": [
    "start_SP = datetime.datetime(2022, 8, 1)\n",
    "end_SP = datetime.datetime(2023, 8, 1)\n",
    "\n",
    "stockStartDate = datetime.datetime(2022, 8, 1)\n",
    "stockEndDate = datetime.datetime(2023, 8, 1)"
   ],
   "metadata": {
    "collapsed": false,
    "ExecuteTime": {
     "end_time": "2023-08-16T04:56:10.079442Z",
     "start_time": "2023-08-16T04:56:10.041190Z"
    }
   }
  },
  {
   "cell_type": "code",
   "execution_count": 13,
   "outputs": [
    {
     "name": "stdout",
     "output_type": "stream",
     "text": [
      "[*********************100%***********************]  1 of 1 completed\n"
     ]
    },
    {
     "data": {
      "text/plain": "                                  Open         High          Low        Close  \\\nDate                                                                            \n2022-08-01 00:00:00-04:00  4112.379883  4144.950195  4096.020020  4118.629883   \n2022-08-02 00:00:00-04:00  4104.209961  4140.470215  4079.810059  4091.189941   \n2022-08-03 00:00:00-04:00  4107.959961  4167.660156  4107.959961  4155.169922   \n2022-08-04 00:00:00-04:00  4154.850098  4161.290039  4135.419922  4151.939941   \n2022-08-05 00:00:00-04:00  4115.870117  4151.580078  4107.310059  4145.189941   \n\n                               Volume  \nDate                                   \n2022-08-01 00:00:00-04:00  4202810000  \n2022-08-02 00:00:00-04:00  4727710000  \n2022-08-03 00:00:00-04:00  4351760000  \n2022-08-04 00:00:00-04:00  4283320000  \n2022-08-05 00:00:00-04:00  4085940000  ",
      "text/html": "<div>\n<style scoped>\n    .dataframe tbody tr th:only-of-type {\n        vertical-align: middle;\n    }\n\n    .dataframe tbody tr th {\n        vertical-align: top;\n    }\n\n    .dataframe thead th {\n        text-align: right;\n    }\n</style>\n<table border=\"1\" class=\"dataframe\">\n  <thead>\n    <tr style=\"text-align: right;\">\n      <th></th>\n      <th>Open</th>\n      <th>High</th>\n      <th>Low</th>\n      <th>Close</th>\n      <th>Volume</th>\n    </tr>\n    <tr>\n      <th>Date</th>\n      <th></th>\n      <th></th>\n      <th></th>\n      <th></th>\n      <th></th>\n    </tr>\n  </thead>\n  <tbody>\n    <tr>\n      <th>2022-08-01 00:00:00-04:00</th>\n      <td>4112.379883</td>\n      <td>4144.950195</td>\n      <td>4096.020020</td>\n      <td>4118.629883</td>\n      <td>4202810000</td>\n    </tr>\n    <tr>\n      <th>2022-08-02 00:00:00-04:00</th>\n      <td>4104.209961</td>\n      <td>4140.470215</td>\n      <td>4079.810059</td>\n      <td>4091.189941</td>\n      <td>4727710000</td>\n    </tr>\n    <tr>\n      <th>2022-08-03 00:00:00-04:00</th>\n      <td>4107.959961</td>\n      <td>4167.660156</td>\n      <td>4107.959961</td>\n      <td>4155.169922</td>\n      <td>4351760000</td>\n    </tr>\n    <tr>\n      <th>2022-08-04 00:00:00-04:00</th>\n      <td>4154.850098</td>\n      <td>4161.290039</td>\n      <td>4135.419922</td>\n      <td>4151.939941</td>\n      <td>4283320000</td>\n    </tr>\n    <tr>\n      <th>2022-08-05 00:00:00-04:00</th>\n      <td>4115.870117</td>\n      <td>4151.580078</td>\n      <td>4107.310059</td>\n      <td>4145.189941</td>\n      <td>4085940000</td>\n    </tr>\n  </tbody>\n</table>\n</div>"
     },
     "execution_count": 13,
     "metadata": {},
     "output_type": "execute_result"
    }
   ],
   "source": [
    "from pandas_datareader import data as pdr\n",
    "import fix_yahoo_finance as yf\n",
    "\n",
    "\n",
    "sp500Data = yf.download('^GSPC', start_SP,  end_SP, auto_adjust=True)\n",
    "sp500Data.head()"
   ],
   "metadata": {
    "collapsed": false,
    "ExecuteTime": {
     "end_time": "2023-08-16T05:06:54.168009Z",
     "start_time": "2023-08-16T05:06:54.006879Z"
    }
   }
  },
  {
   "cell_type": "markdown",
   "source": [
    "## Automate Ticker Pull from Yahoo Finance"
   ],
   "metadata": {
    "collapsed": false
   }
  },
  {
   "cell_type": "code",
   "execution_count": 11,
   "outputs": [
    {
     "data": {
      "text/plain": "array(['AAPL', 'JNJ', 'MCD', 'MTCH', 'NFLX', 'WMT', 'FB', 'TWTR'],\n      dtype=object)"
     },
     "execution_count": 11,
     "metadata": {},
     "output_type": "execute_result"
    }
   ],
   "source": [
    "tickers = df['Ticker'].unique()\n",
    "tickers"
   ],
   "metadata": {
    "collapsed": false,
    "ExecuteTime": {
     "end_time": "2023-08-16T05:03:46.474977Z",
     "start_time": "2023-08-16T05:03:46.447102Z"
    }
   }
  },
  {
   "cell_type": "code",
   "execution_count": 14,
   "outputs": [
    {
     "name": "stdout",
     "output_type": "stream",
     "text": [
      "[*********************100%***********************]  1 of 1 completed\n",
      "[*********************100%***********************]  1 of 1 completed\n",
      "[*********************100%***********************]  1 of 1 completed\n",
      "[*********************100%***********************]  1 of 1 completed\n",
      "[*********************100%***********************]  1 of 1 completed\n",
      "[*********************100%***********************]  1 of 1 completed\n",
      "[*********************100%***********************]  1 of 1 completed\n",
      "\n",
      "1 Failed download:\n",
      "- FB: No timezone found, symbol may be delisted\n",
      "[*********************100%***********************]  1 of 1 completed\n",
      "\n",
      "1 Failed download:\n",
      "- TWTR: No timezone found, symbol may be delisted\n"
     ]
    }
   ],
   "source": [
    "def get(tickers, startDate, endDate):\n",
    "    def data(ticker):\n",
    "        return yf.download(ticker, start=startDate, end=endDate)\n",
    "    datas = map(data, tickers)\n",
    "    return pd.concat(datas, keys=tickers, names=['Ticker', 'Date'])\n",
    "\n",
    "all_data = get(tickers, stockStartDate, stockEndDate)"
   ],
   "metadata": {
    "collapsed": false,
    "ExecuteTime": {
     "end_time": "2023-08-16T05:09:20.997728Z",
     "start_time": "2023-08-16T05:09:19.917824Z"
    }
   }
  },
  {
   "cell_type": "code",
   "execution_count": null,
   "outputs": [],
   "source": [],
   "metadata": {
    "collapsed": false
   }
  }
 ],
 "metadata": {
  "kernelspec": {
   "display_name": "Python 3",
   "language": "python",
   "name": "python3"
  },
  "language_info": {
   "codemirror_mode": {
    "name": "ipython",
    "version": 2
   },
   "file_extension": ".py",
   "mimetype": "text/x-python",
   "name": "python",
   "nbconvert_exporter": "python",
   "pygments_lexer": "ipython2",
   "version": "2.7.6"
  }
 },
 "nbformat": 4,
 "nbformat_minor": 0
}
